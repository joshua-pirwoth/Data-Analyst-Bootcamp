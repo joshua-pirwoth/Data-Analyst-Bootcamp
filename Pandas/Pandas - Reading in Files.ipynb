{
 "cells": [
  {
   "cell_type": "markdown",
   "id": "4da188c1-d308-4bc5-bcee-5a45ce2e40c8",
   "metadata": {},
   "source": [
    "# Reading in Files"
   ]
  },
  {
   "cell_type": "code",
   "execution_count": null,
   "id": "04a48f9f-94e5-4dba-a59e-1369c9ab9305",
   "metadata": {},
   "outputs": [],
   "source": []
  }
 ],
 "metadata": {
  "kernelspec": {
   "display_name": "Python 3 (ipykernel)",
   "language": "python",
   "name": "python3"
  },
  "language_info": {
   "codemirror_mode": {
    "name": "ipython",
    "version": 3
   },
   "file_extension": ".py",
   "mimetype": "text/x-python",
   "name": "python",
   "nbconvert_exporter": "python",
   "pygments_lexer": "ipython3",
   "version": "3.12.4"
  }
 },
 "nbformat": 4,
 "nbformat_minor": 5
}
