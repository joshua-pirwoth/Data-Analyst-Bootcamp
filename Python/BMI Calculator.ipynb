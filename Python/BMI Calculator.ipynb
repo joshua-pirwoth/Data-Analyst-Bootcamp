{
 "cells": [
  {
   "cell_type": "markdown",
   "id": "86507eb9-2121-4b7c-bcf8-0397a38f68f1",
   "metadata": {},
   "source": [
    "# BMI Calculator\n",
    "This is my first Python Project, as part of the Data Analyst Bootcamp"
   ]
  },
  {
   "cell_type": "code",
   "execution_count": 23,
   "id": "7840919c-a16e-4648-b5d3-28211af49940",
   "metadata": {},
   "outputs": [
    {
     "name": "stdin",
     "output_type": "stream",
     "text": [
      "What is your name?  joshua\n",
      "Enter your weight in pounds:  143\n",
      "Enter your height in inches:  69\n"
     ]
    },
    {
     "name": "stdout",
     "output_type": "stream",
     "text": [
      "\n",
      "Your BMI is 21.1\n",
      "Joshua, you are of normal weight\n"
     ]
    }
   ],
   "source": [
    "name = input(\"What is your name? \")\n",
    "\n",
    "weight = int(input(\"Enter your weight in pounds: \"))\n",
    "\n",
    "height = int(input(\"Enter your height in inches: \"))\n",
    "\n",
    "BMI = (weight * 703) / (height * height)\n",
    "\n",
    "print(\"\\nYour BMI is \" + f\"{round(BMI, 1)}\")\n",
    "\n",
    "if (BMI < 18.5):\n",
    "    print(name.title() + \", you are underweight\")\n",
    "elif (BMI < 25):\n",
    "    print(name.title() + \", you are of normal weight\")\n",
    "elif (BMI < 30):\n",
    "    print(name.title() + \", you are overweight\")\n",
    "elif (BMI < 35):\n",
    "    print(name.title() + \", you are obese\")\n",
    "elif (BMI < 40):\n",
    "    print(name.title() + \", you are severely obese\")\n",
    "else:\n",
    "    print(name.title() + \", you are morbidly obese\")"
   ]
  },
  {
   "cell_type": "code",
   "execution_count": null,
   "id": "d63ba116-59b1-47bf-8a5f-1d1c79685cbf",
   "metadata": {},
   "outputs": [],
   "source": []
  },
  {
   "cell_type": "code",
   "execution_count": 19,
   "id": "a7dcb042-6d7e-4cb1-b86b-a32be4e5c5b5",
   "metadata": {},
   "outputs": [
    {
     "name": "stdout",
     "output_type": "stream",
     "text": [
      "You are of normal weight\n"
     ]
    }
   ],
   "source": []
  },
  {
   "cell_type": "code",
   "execution_count": null,
   "id": "c96ccbe5-0203-49a0-bc40-2a0da4faa7d5",
   "metadata": {},
   "outputs": [],
   "source": []
  },
  {
   "cell_type": "code",
   "execution_count": 3,
   "id": "802952ba-704d-4f98-987f-d180271cf5ed",
   "metadata": {},
   "outputs": [],
   "source": [
    "# BMI = (weight in pounds * 703) / (height in inches * height in inches)"
   ]
  },
  {
   "cell_type": "code",
   "execution_count": null,
   "id": "6c8be983-c8ad-4d59-bc13-a3e159565a00",
   "metadata": {},
   "outputs": [],
   "source": []
  },
  {
   "cell_type": "code",
   "execution_count": null,
   "id": "99df63a9-d826-4bf2-ac6c-6fb19d99a588",
   "metadata": {},
   "outputs": [],
   "source": [
    "print(weight)"
   ]
  }
 ],
 "metadata": {
  "kernelspec": {
   "display_name": "Python 3 (ipykernel)",
   "language": "python",
   "name": "python3"
  },
  "language_info": {
   "codemirror_mode": {
    "name": "ipython",
    "version": 3
   },
   "file_extension": ".py",
   "mimetype": "text/x-python",
   "name": "python",
   "nbconvert_exporter": "python",
   "pygments_lexer": "ipython3",
   "version": "3.12.4"
  }
 },
 "nbformat": 4,
 "nbformat_minor": 5
}
