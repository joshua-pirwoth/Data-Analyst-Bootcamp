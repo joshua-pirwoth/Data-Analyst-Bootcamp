{
 "cells": [
  {
   "cell_type": "markdown",
   "id": "999a1475-bbc8-4bbe-a417-3130d522c5de",
   "metadata": {},
   "source": [
    "# Automatic File Sorter in File Explorer"
   ]
  },
  {
   "cell_type": "code",
   "execution_count": 27,
   "id": "cbf4f4f0-3ecb-4a20-a22a-92ee69b8b3c3",
   "metadata": {},
   "outputs": [],
   "source": [
    "import os, shutil"
   ]
  },
  {
   "cell_type": "code",
   "execution_count": 28,
   "id": "d9e56b0c-cffe-4d67-b128-2b5584a1de5c",
   "metadata": {},
   "outputs": [],
   "source": [
    "path = r\"C:/Users/MR.OKECH/Desktop/Joshua/Data Career/Data Analyst Bootcamp/Bootcamp Files/Python/\""
   ]
  },
  {
   "cell_type": "code",
   "execution_count": 20,
   "id": "4992b00c-67b6-476c-82a5-9b819ce46c96",
   "metadata": {},
   "outputs": [],
   "source": [
    "# list of files in the path specified\n",
    "file_name = os.listdir(path)"
   ]
  },
  {
   "cell_type": "code",
   "execution_count": 30,
   "id": "cfd4e436-4af0-4236-8cae-59b7ebfd07ea",
   "metadata": {},
   "outputs": [],
   "source": [
    "# Create a list of folder names that we wamt to create\n",
    "folder_names = ['word files', 'image files', 'text files']\n",
    "\n",
    "for loop in range(0, 3):\n",
    "    if not os.path.exists(path + folder_names[loop]):\n",
    "\n",
    "        # Create a folder if the its path doesnt exist\n",
    "        os.makedirs(path + folder_names[loop])\n",
    "\n",
    "for file in file_name:\n",
    "    if \".docx\" in file and not os.path.exists(path + \"word files/\" + file):\n",
    "        shutil.move(path + file, path + \"word files/\" + file)\n",
    "    elif \".jpg\" in file and not os.path.exists(path + \"image files/\" + file):\n",
    "        shutil.move(path + file, path + \"image files/\" + file)\n",
    "    elif \".txt\" in file and not os.path.exists(path + \"text files/\" + file):\n",
    "        shutil.move(path + file, path + \"text files/\" + file)"
   ]
  },
  {
   "cell_type": "code",
   "execution_count": null,
   "id": "6959cec2-bc74-4b13-a6e6-d5642eef7922",
   "metadata": {},
   "outputs": [],
   "source": []
  },
  {
   "cell_type": "code",
   "execution_count": null,
   "id": "21624c41-b2ec-4b06-a227-1b751fe34f16",
   "metadata": {},
   "outputs": [],
   "source": []
  },
  {
   "cell_type": "code",
   "execution_count": null,
   "id": "87f5289e-d435-44f1-994e-59ef4e6edcba",
   "metadata": {},
   "outputs": [],
   "source": []
  },
  {
   "cell_type": "code",
   "execution_count": null,
   "id": "cc8f418c-0154-4a34-9640-448acfb548dd",
   "metadata": {},
   "outputs": [],
   "source": []
  },
  {
   "cell_type": "code",
   "execution_count": null,
   "id": "2e948f7e-3ba7-4e86-aafb-d3276d1782cd",
   "metadata": {},
   "outputs": [],
   "source": []
  },
  {
   "cell_type": "code",
   "execution_count": null,
   "id": "8735f2c2-577a-43ee-b98c-9a082eadbd54",
   "metadata": {},
   "outputs": [],
   "source": []
  }
 ],
 "metadata": {
  "kernelspec": {
   "display_name": "Python 3 (ipykernel)",
   "language": "python",
   "name": "python3"
  },
  "language_info": {
   "codemirror_mode": {
    "name": "ipython",
    "version": 3
   },
   "file_extension": ".py",
   "mimetype": "text/x-python",
   "name": "python",
   "nbconvert_exporter": "python",
   "pygments_lexer": "ipython3",
   "version": "3.12.4"
  }
 },
 "nbformat": 4,
 "nbformat_minor": 5
}
